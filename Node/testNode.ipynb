{
 "cells": [
  {
   "cell_type": "code",
   "execution_count": 2,
   "metadata": {},
   "outputs": [],
   "source": [
    "import requests\n",
    "import math\n",
    "from random import randint\n",
    "import pandas as pd\n"
   ]
  },
  {
   "cell_type": "code",
   "execution_count": 3,
   "metadata": {},
   "outputs": [],
   "source": [
    "url = \"http://localhost:8080/datapoint-post\"\n",
    "\n",
    "headers = {\"Content-Type\": \"text/plain\"}\n"
   ]
  },
  {
   "cell_type": "code",
   "execution_count": 4,
   "metadata": {},
   "outputs": [],
   "source": [
    "\n",
    "data = pd.read_csv(\"iot_telemetry_data.csv\")\n",
    "\n"
   ]
  },
  {
   "cell_type": "code",
   "execution_count": 5,
   "metadata": {},
   "outputs": [],
   "source": [
    "#remove all devices that are not b8:27:eb:bf:9d:51 from the dataframe\n",
    "df = data[data[\"device\"] == 'b8:27:eb:bf:9d:51']"
   ]
  },
  {
   "cell_type": "code",
   "execution_count": 5,
   "metadata": {},
   "outputs": [
    {
     "data": {
      "text/html": [
       "<div>\n",
       "<style scoped>\n",
       "    .dataframe tbody tr th:only-of-type {\n",
       "        vertical-align: middle;\n",
       "    }\n",
       "\n",
       "    .dataframe tbody tr th {\n",
       "        vertical-align: top;\n",
       "    }\n",
       "\n",
       "    .dataframe thead th {\n",
       "        text-align: right;\n",
       "    }\n",
       "</style>\n",
       "<table border=\"1\" class=\"dataframe\">\n",
       "  <thead>\n",
       "    <tr style=\"text-align: right;\">\n",
       "      <th></th>\n",
       "      <th>ts</th>\n",
       "      <th>device</th>\n",
       "      <th>co</th>\n",
       "      <th>humidity</th>\n",
       "      <th>light</th>\n",
       "      <th>lpg</th>\n",
       "      <th>motion</th>\n",
       "      <th>smoke</th>\n",
       "      <th>temp</th>\n",
       "    </tr>\n",
       "  </thead>\n",
       "  <tbody>\n",
       "    <tr>\n",
       "      <th>0</th>\n",
       "      <td>1.594512e+09</td>\n",
       "      <td>b8:27:eb:bf:9d:51</td>\n",
       "      <td>0.004956</td>\n",
       "      <td>51.0</td>\n",
       "      <td>False</td>\n",
       "      <td>0.007651</td>\n",
       "      <td>False</td>\n",
       "      <td>0.020411</td>\n",
       "      <td>22.7</td>\n",
       "    </tr>\n",
       "    <tr>\n",
       "      <th>2</th>\n",
       "      <td>1.594512e+09</td>\n",
       "      <td>b8:27:eb:bf:9d:51</td>\n",
       "      <td>0.004976</td>\n",
       "      <td>50.9</td>\n",
       "      <td>False</td>\n",
       "      <td>0.007673</td>\n",
       "      <td>False</td>\n",
       "      <td>0.020475</td>\n",
       "      <td>22.6</td>\n",
       "    </tr>\n",
       "    <tr>\n",
       "      <th>4</th>\n",
       "      <td>1.594512e+09</td>\n",
       "      <td>b8:27:eb:bf:9d:51</td>\n",
       "      <td>0.004967</td>\n",
       "      <td>50.9</td>\n",
       "      <td>False</td>\n",
       "      <td>0.007664</td>\n",
       "      <td>False</td>\n",
       "      <td>0.020448</td>\n",
       "      <td>22.6</td>\n",
       "    </tr>\n",
       "    <tr>\n",
       "      <th>6</th>\n",
       "      <td>1.594512e+09</td>\n",
       "      <td>b8:27:eb:bf:9d:51</td>\n",
       "      <td>0.004976</td>\n",
       "      <td>50.9</td>\n",
       "      <td>False</td>\n",
       "      <td>0.007673</td>\n",
       "      <td>False</td>\n",
       "      <td>0.020475</td>\n",
       "      <td>22.6</td>\n",
       "    </tr>\n",
       "    <tr>\n",
       "      <th>9</th>\n",
       "      <td>1.594512e+09</td>\n",
       "      <td>b8:27:eb:bf:9d:51</td>\n",
       "      <td>0.004970</td>\n",
       "      <td>50.9</td>\n",
       "      <td>False</td>\n",
       "      <td>0.007667</td>\n",
       "      <td>False</td>\n",
       "      <td>0.020457</td>\n",
       "      <td>22.6</td>\n",
       "    </tr>\n",
       "    <tr>\n",
       "      <th>...</th>\n",
       "      <td>...</td>\n",
       "      <td>...</td>\n",
       "      <td>...</td>\n",
       "      <td>...</td>\n",
       "      <td>...</td>\n",
       "      <td>...</td>\n",
       "      <td>...</td>\n",
       "      <td>...</td>\n",
       "      <td>...</td>\n",
       "    </tr>\n",
       "    <tr>\n",
       "      <th>405173</th>\n",
       "      <td>1.595203e+09</td>\n",
       "      <td>b8:27:eb:bf:9d:51</td>\n",
       "      <td>0.005901</td>\n",
       "      <td>48.4</td>\n",
       "      <td>False</td>\n",
       "      <td>0.008681</td>\n",
       "      <td>False</td>\n",
       "      <td>0.023359</td>\n",
       "      <td>22.3</td>\n",
       "    </tr>\n",
       "    <tr>\n",
       "      <th>405176</th>\n",
       "      <td>1.595203e+09</td>\n",
       "      <td>b8:27:eb:bf:9d:51</td>\n",
       "      <td>0.005909</td>\n",
       "      <td>48.4</td>\n",
       "      <td>False</td>\n",
       "      <td>0.008689</td>\n",
       "      <td>False</td>\n",
       "      <td>0.023382</td>\n",
       "      <td>22.3</td>\n",
       "    </tr>\n",
       "    <tr>\n",
       "      <th>405177</th>\n",
       "      <td>1.595203e+09</td>\n",
       "      <td>b8:27:eb:bf:9d:51</td>\n",
       "      <td>0.005877</td>\n",
       "      <td>48.5</td>\n",
       "      <td>False</td>\n",
       "      <td>0.008654</td>\n",
       "      <td>False</td>\n",
       "      <td>0.023284</td>\n",
       "      <td>22.3</td>\n",
       "    </tr>\n",
       "    <tr>\n",
       "      <th>405180</th>\n",
       "      <td>1.595203e+09</td>\n",
       "      <td>b8:27:eb:bf:9d:51</td>\n",
       "      <td>0.005882</td>\n",
       "      <td>48.5</td>\n",
       "      <td>False</td>\n",
       "      <td>0.008660</td>\n",
       "      <td>False</td>\n",
       "      <td>0.023301</td>\n",
       "      <td>22.2</td>\n",
       "    </tr>\n",
       "    <tr>\n",
       "      <th>405183</th>\n",
       "      <td>1.595203e+09</td>\n",
       "      <td>b8:27:eb:bf:9d:51</td>\n",
       "      <td>0.005914</td>\n",
       "      <td>48.4</td>\n",
       "      <td>False</td>\n",
       "      <td>0.008695</td>\n",
       "      <td>False</td>\n",
       "      <td>0.023400</td>\n",
       "      <td>22.2</td>\n",
       "    </tr>\n",
       "  </tbody>\n",
       "</table>\n",
       "<p>187451 rows × 9 columns</p>\n",
       "</div>"
      ],
      "text/plain": [
       "                  ts             device        co  humidity  light       lpg  \\\n",
       "0       1.594512e+09  b8:27:eb:bf:9d:51  0.004956      51.0  False  0.007651   \n",
       "2       1.594512e+09  b8:27:eb:bf:9d:51  0.004976      50.9  False  0.007673   \n",
       "4       1.594512e+09  b8:27:eb:bf:9d:51  0.004967      50.9  False  0.007664   \n",
       "6       1.594512e+09  b8:27:eb:bf:9d:51  0.004976      50.9  False  0.007673   \n",
       "9       1.594512e+09  b8:27:eb:bf:9d:51  0.004970      50.9  False  0.007667   \n",
       "...              ...                ...       ...       ...    ...       ...   \n",
       "405173  1.595203e+09  b8:27:eb:bf:9d:51  0.005901      48.4  False  0.008681   \n",
       "405176  1.595203e+09  b8:27:eb:bf:9d:51  0.005909      48.4  False  0.008689   \n",
       "405177  1.595203e+09  b8:27:eb:bf:9d:51  0.005877      48.5  False  0.008654   \n",
       "405180  1.595203e+09  b8:27:eb:bf:9d:51  0.005882      48.5  False  0.008660   \n",
       "405183  1.595203e+09  b8:27:eb:bf:9d:51  0.005914      48.4  False  0.008695   \n",
       "\n",
       "        motion     smoke  temp  \n",
       "0        False  0.020411  22.7  \n",
       "2        False  0.020475  22.6  \n",
       "4        False  0.020448  22.6  \n",
       "6        False  0.020475  22.6  \n",
       "9        False  0.020457  22.6  \n",
       "...        ...       ...   ...  \n",
       "405173   False  0.023359  22.3  \n",
       "405176   False  0.023382  22.3  \n",
       "405177   False  0.023284  22.3  \n",
       "405180   False  0.023301  22.2  \n",
       "405183   False  0.023400  22.2  \n",
       "\n",
       "[187451 rows x 9 columns]"
      ]
     },
     "execution_count": 5,
     "metadata": {},
     "output_type": "execute_result"
    }
   ],
   "source": [
    "df"
   ]
  },
  {
   "cell_type": "code",
   "execution_count": 6,
   "metadata": {},
   "outputs": [],
   "source": [
    "import time\n"
   ]
  },
  {
   "cell_type": "code",
   "execution_count": 17,
   "metadata": {},
   "outputs": [
    {
     "name": "stdout",
     "output_type": "stream",
     "text": [
      "100 requests sent\n",
      "100 requests sent\n",
      "100 requests sent\n",
      "100 requests sent\n",
      "100 requests sent\n",
      "100 requests sent\n",
      "100 requests sent\n",
      "100 requests sent\n",
      "100 requests sent\n",
      "100 requests sent\n",
      "100 requests sent\n",
      "100 requests sent\n",
      "100 requests sent\n",
      "100 requests sent\n",
      "100 requests sent\n",
      "100 requests sent\n"
     ]
    }
   ],
   "source": [
    "time_start = time.mktime(time.localtime())\n",
    "for index,val in enumerate(df[\"humidity\"]):\n",
    "    payload = f\"bg/moses/{'b8.27.eb.bf.9d.51'}:{val}:{int(time_start)+index*5}\"\n",
    "    response = requests.request(\"GET\", url, data=payload, headers=headers)\n",
    "    if(index%500 == 0):\n",
    "        print(\"100 requests sent\") \n",
    "    assert response.status_code==200\n",
    "    "
   ]
  },
  {
   "cell_type": "code",
   "execution_count": 16,
   "metadata": {},
   "outputs": [
    {
     "data": {
      "text/plain": [
       "''"
      ]
     },
     "execution_count": 16,
     "metadata": {},
     "output_type": "execute_result"
    }
   ],
   "source": [
    "payload = f\"1681657736:1681706601\"\n",
    "l = requests.request(\"GET\", \"http://localhost:8080/datapoint-get-average\", data=payload, headers=headers)\n",
    "l.text"
   ]
  },
  {
   "cell_type": "code",
   "execution_count": null,
   "metadata": {},
   "outputs": [],
   "source": [
    "dataframe:pd.DataFrame\n",
    "dataframe = df['humidity']\n",
    "dataframe.to_csv(\"humidity.csv\")"
   ]
  }
 ],
 "metadata": {
  "kernelspec": {
   "display_name": "Python 3.10.7 64-bit",
   "language": "python",
   "name": "python3"
  },
  "language_info": {
   "codemirror_mode": {
    "name": "ipython",
    "version": 3
   },
   "file_extension": ".py",
   "mimetype": "text/x-python",
   "name": "python",
   "nbconvert_exporter": "python",
   "pygments_lexer": "ipython3",
   "version": "3.10.7"
  },
  "orig_nbformat": 4,
  "vscode": {
   "interpreter": {
    "hash": "e7370f93d1d0cde622a1f8e1c04877d8463912d04d973331ad4851f04de6915a"
   }
  }
 },
 "nbformat": 4,
 "nbformat_minor": 2
}
